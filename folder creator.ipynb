{
 "cells": [
  {
   "cell_type": "markdown",
   "id": "c4ed5f7e",
   "metadata": {},
   "source": [
    "<h2> File sorting </h2>\n"
   ]
  },
  {
   "cell_type": "code",
   "execution_count": 20,
   "id": "97611f98",
   "metadata": {},
   "outputs": [],
   "source": [
    "import os,shutil\n",
    "path = r\"C:/Users/a13hi/Desktop/SQL Related/\"\n",
    "file_name = os.listdir(path)"
   ]
  },
  {
   "cell_type": "code",
   "execution_count": 33,
   "id": "5e9842e9",
   "metadata": {},
   "outputs": [
    {
     "name": "stdout",
     "output_type": "stream",
     "text": [
      "['csv_files', 'img_files', 'misc_files', 'text_files', 'video_files', 'VID_20220731_105926~3.mp4']\n"
     ]
    }
   ],
   "source": [
    "import os,shutil\n",
    "src = r\"C:/Users/a13hi/Desktop/SQL Related/\"\n",
    "files = os.listdir(src)\n",
    "print(files)"
   ]
  },
  {
   "cell_type": "code",
   "execution_count": 32,
   "id": "6c3e39d4",
   "metadata": {},
   "outputs": [],
   "source": [
    "import os,shutil\n",
    "src = r\"C:/Users/a13hi/Desktop/SQL Related/\"\n",
    "files = os.listdir(src)\n",
    "print(files)\n",
    "folder_names = ['csv_files','text_files','img_files','video_files','misc_files']\n",
    "for i in folder_names:\n",
    "    if i not in files:\n",
    "        os.mkdir(src+i)\n",
    "for j in files:\n",
    "    if '.txt' in j and not os.path.exists(src+'text_files/'+j):\n",
    "        shutil.move(src+j,src+'text_files/')\n",
    "    if '.jpg' in j and not os.path.exists(src+'img_files/'+j):\n",
    "        shutil.move(src+j,src+'img_files/')"
   ]
  },
  {
   "cell_type": "code",
   "execution_count": null,
   "id": "9a23df51",
   "metadata": {},
   "outputs": [],
   "source": []
  },
  {
   "cell_type": "code",
   "execution_count": null,
   "id": "e9ae8312",
   "metadata": {},
   "outputs": [],
   "source": []
  },
  {
   "cell_type": "code",
   "execution_count": null,
   "id": "5a408625",
   "metadata": {},
   "outputs": [],
   "source": []
  },
  {
   "cell_type": "code",
   "execution_count": null,
   "id": "63dc227f",
   "metadata": {},
   "outputs": [],
   "source": []
  },
  {
   "cell_type": "code",
   "execution_count": null,
   "id": "892443ed",
   "metadata": {},
   "outputs": [],
   "source": []
  },
  {
   "cell_type": "code",
   "execution_count": null,
   "id": "e32b20fc",
   "metadata": {},
   "outputs": [],
   "source": []
  },
  {
   "cell_type": "code",
   "execution_count": null,
   "id": "f53ee86b",
   "metadata": {},
   "outputs": [],
   "source": []
  },
  {
   "cell_type": "code",
   "execution_count": null,
   "id": "cd07b635",
   "metadata": {},
   "outputs": [],
   "source": []
  }
 ],
 "metadata": {
  "kernelspec": {
   "display_name": "Python 3 (ipykernel)",
   "language": "python",
   "name": "python3"
  },
  "language_info": {
   "codemirror_mode": {
    "name": "ipython",
    "version": 3
   },
   "file_extension": ".py",
   "mimetype": "text/x-python",
   "name": "python",
   "nbconvert_exporter": "python",
   "pygments_lexer": "ipython3",
   "version": "3.9.7"
  }
 },
 "nbformat": 4,
 "nbformat_minor": 5
}
